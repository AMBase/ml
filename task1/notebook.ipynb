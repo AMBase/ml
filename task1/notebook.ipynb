{
 "cells": [
  {
   "cell_type": "markdown",
   "source": [
    "Для выполнения домашнего задания был выбран dataset [Telco Customer Churn](https://www.kaggle.com/datasets/blastchar/telco-customer-churn)"
   ],
   "metadata": {
    "collapsed": false
   },
   "id": "8a5c137cb506b020"
  },
  {
   "cell_type": "code",
   "execution_count": null,
   "id": "initial_id",
   "metadata": {
    "collapsed": true
   },
   "outputs": [],
   "source": [
    "import pandas as pd\n",
    "import numpy as np\n",
    "from sklearn.preprocessing import LabelEncoder\n",
    "from sklearn.model_selection import train_test_split\n",
    "from sklearn.model_selection import GridSearchCV\n",
    "from sklearn.ensemble import GradientBoostingClassifier\n",
    "from xgboost import XGBClassifier\n",
    "from lightgbm import LGBMClassifier\n",
    "from catboost import CatBoostClassifier "
   ]
  },
  {
   "cell_type": "code",
   "outputs": [],
   "source": [
    "df = pd.read_csv(\"dataset.csv\", sep=\",\")\n",
    "df.head()"
   ],
   "metadata": {
    "collapsed": false
   },
   "id": "af9ebe915d400c99",
   "execution_count": null
  },
  {
   "cell_type": "code",
   "outputs": [],
   "source": [
    "df.info()"
   ],
   "metadata": {
    "collapsed": false
   },
   "id": "141bd333d666d27b",
   "execution_count": null
  },
  {
   "cell_type": "markdown",
   "source": [
    "Проверим, что customerId уникален"
   ],
   "metadata": {
    "collapsed": false
   },
   "id": "d041ea99b2f2aaf4"
  },
  {
   "cell_type": "code",
   "outputs": [],
   "source": [
    "len(df[df.duplicated(['customerID'])])"
   ],
   "metadata": {
    "collapsed": false
   },
   "id": "ebb0abd1f6730a73",
   "execution_count": null
  },
  {
   "cell_type": "markdown",
   "source": [
    "Идентификатор клиента не влияет на отток, поэтому можем удалить его. "
   ],
   "metadata": {
    "collapsed": false
   },
   "id": "1347051f64487af4"
  },
  {
   "cell_type": "code",
   "outputs": [],
   "source": [
    "df.drop(columns=[\"customerID\"], inplace=True)"
   ],
   "metadata": {
    "collapsed": false
   },
   "id": "a448134b4796a769",
   "execution_count": null
  },
  {
   "cell_type": "markdown",
   "source": [
    "gender - пол клиента"
   ],
   "metadata": {
    "collapsed": false
   },
   "id": "87cd6e2bbf32464"
  },
  {
   "cell_type": "code",
   "outputs": [],
   "source": [
    "df[\"gender\"].value_counts()"
   ],
   "metadata": {
    "collapsed": false
   },
   "id": "49d3006e060990ed",
   "execution_count": null
  },
  {
   "cell_type": "markdown",
   "source": [
    "Добавим переменную в которую будем собирать категориальные признаки"
   ],
   "metadata": {
    "collapsed": false
   },
   "id": "19f77688e6cf6600"
  },
  {
   "cell_type": "code",
   "outputs": [],
   "source": [
    "categorical_columns = {\"gender\"}"
   ],
   "metadata": {
    "collapsed": false
   },
   "id": "8ea3ba57aa152e6",
   "execution_count": null
  },
  {
   "cell_type": "markdown",
   "source": [
    "SeniorCitizen - указывает, является ли клиент старше 65 лет"
   ],
   "metadata": {
    "collapsed": false
   },
   "id": "199df89ed786247a"
  },
  {
   "cell_type": "code",
   "outputs": [],
   "source": [
    "df[\"SeniorCitizen\"].value_counts()"
   ],
   "metadata": {
    "collapsed": false
   },
   "id": "8916516d423a3bf8",
   "execution_count": null
  },
  {
   "cell_type": "markdown",
   "source": [
    "Partner - указывает, состоит ли клиент в браке: Да, Нет"
   ],
   "metadata": {
    "collapsed": false
   },
   "id": "7eb8e7b4a1d160a1"
  },
  {
   "cell_type": "code",
   "outputs": [],
   "source": [
    "categorical_columns.add(\"Partner\")\n",
    "df[\"Partner\"].value_counts()"
   ],
   "metadata": {
    "collapsed": false
   },
   "id": "538f1b0ef557863d",
   "execution_count": null
  },
  {
   "cell_type": "markdown",
   "source": [
    "Dependents - указывает, проживает ли клиент с какими-либо иждивенцами: Да, нет. Иждивенцами могут быть дети, родители, бабушки и дедушки и т.д."
   ],
   "metadata": {
    "collapsed": false
   },
   "id": "1dd25ad2104ad3ff"
  },
  {
   "cell_type": "code",
   "outputs": [],
   "source": [
    "categorical_columns.add(\"Dependents\")\n",
    "df[\"Dependents\"].value_counts()"
   ],
   "metadata": {
    "collapsed": false
   },
   "id": "8d9392087852fa23",
   "execution_count": null
  },
  {
   "cell_type": "markdown",
   "source": [
    "tenure - общее количество месяцев, в течение которых клиент работал в компании к концу указанного выше квартала."
   ],
   "metadata": {
    "collapsed": false
   },
   "id": "55743d03c743dff3"
  },
  {
   "cell_type": "code",
   "outputs": [],
   "source": [
    "df[\"tenure\"].describe()"
   ],
   "metadata": {
    "collapsed": false
   },
   "id": "22475a94e2d27df",
   "execution_count": null
  },
  {
   "cell_type": "markdown",
   "source": [
    "PhoneService - подключен ли клиент к услугам домашней телефонной связи в компании"
   ],
   "metadata": {
    "collapsed": false
   },
   "id": "d9def958eb038ef9"
  },
  {
   "cell_type": "code",
   "outputs": [],
   "source": [
    "categorical_columns.add(\"PhoneService\")\n",
    "df[\"PhoneService\"].value_counts()"
   ],
   "metadata": {
    "collapsed": false
   },
   "id": "373a24df327f27e7",
   "execution_count": null
  },
  {
   "cell_type": "markdown",
   "source": [
    "MultipleLines - подключен ли клиент к нескольким телефонным линиям компании"
   ],
   "metadata": {
    "collapsed": false
   },
   "id": "aaced3a524806a3f"
  },
  {
   "cell_type": "code",
   "outputs": [],
   "source": [
    "categorical_columns.add(\"MultipleLines\")\n",
    "df[\"MultipleLines\"].value_counts()"
   ],
   "metadata": {
    "collapsed": false
   },
   "id": "d0620e2d0e61f7d5",
   "execution_count": null
  },
  {
   "cell_type": "markdown",
   "source": [
    "InternetService - подключен ли клиент к интернет-сервису компании: Нет, DSL, оптоволокно, кабель"
   ],
   "metadata": {
    "collapsed": false
   },
   "id": "7bd335d05a7d0a04"
  },
  {
   "cell_type": "code",
   "outputs": [],
   "source": [
    "categorical_columns.add(\"InternetService\")\n",
    "df[\"InternetService\"].value_counts()"
   ],
   "metadata": {
    "collapsed": false
   },
   "id": "679e8f5f9ddda30c",
   "execution_count": null
  },
  {
   "cell_type": "markdown",
   "source": [
    "OnlineSecurity - подписывается ли клиент на дополнительную услугу онлайн-безопасности, предоставляемую компанией"
   ],
   "metadata": {
    "collapsed": false
   },
   "id": "449e85706b4bd180"
  },
  {
   "cell_type": "code",
   "outputs": [],
   "source": [
    "categorical_columns.add(\"OnlineSecurity\")\n",
    "df[\"OnlineSecurity\"].value_counts()"
   ],
   "metadata": {
    "collapsed": false
   },
   "id": "e0dee847bdd7bb9a",
   "execution_count": null
  },
  {
   "cell_type": "markdown",
   "source": [
    "OnlineBackup - подписывается ли клиент на дополнительную услугу онлайн-резервного копирования, предоставляемую компанией"
   ],
   "metadata": {
    "collapsed": false
   },
   "id": "df07c73a6aabc406"
  },
  {
   "cell_type": "code",
   "outputs": [],
   "source": [
    "categorical_columns.add(\"OnlineBackup\")\n",
    "df[\"OnlineBackup\"].value_counts()"
   ],
   "metadata": {
    "collapsed": false
   },
   "id": "266b9addc8406927",
   "execution_count": null
  },
  {
   "cell_type": "markdown",
   "source": [
    "DeviceProtection - подписался ли клиент на дополнительный план защиты устройств для своего интернет-оборудования, предоставляемый компанией"
   ],
   "metadata": {
    "collapsed": false
   },
   "id": "ca747418e32d3c20"
  },
  {
   "cell_type": "code",
   "outputs": [],
   "source": [
    "categorical_columns.add(\"DeviceProtection\")\n",
    "df[\"DeviceProtection\"].value_counts()"
   ],
   "metadata": {
    "collapsed": false
   },
   "id": "a6c135860a0cc028",
   "execution_count": null
  },
  {
   "cell_type": "code",
   "outputs": [],
   "source": [],
   "metadata": {
    "collapsed": false
   },
   "id": "c1e8df40afe7aa1f",
   "execution_count": null
  },
  {
   "cell_type": "markdown",
   "source": [
    "TechSupport - подписывается ли клиент на дополнительный план технической поддержки от компании с сокращенным временем ожидания."
   ],
   "metadata": {
    "collapsed": false
   },
   "id": "21d9dacbe06489c1"
  },
  {
   "cell_type": "code",
   "outputs": [],
   "source": [
    "categorical_columns.add(\"TechSupport\")\n",
    "df[\"TechSupport\"].value_counts()"
   ],
   "metadata": {
    "collapsed": false
   },
   "id": "14be170f377d37ad",
   "execution_count": null
  },
  {
   "cell_type": "markdown",
   "source": [
    "StreamingTV - использует ли клиент свой интернет-сервис для трансляции телевизионных программ от стороннего провайдера"
   ],
   "metadata": {
    "collapsed": false
   },
   "id": "c28642692945999a"
  },
  {
   "cell_type": "code",
   "outputs": [],
   "source": [
    "categorical_columns.add(\"StreamingTV\")\n",
    "df[\"StreamingTV\"].value_counts()"
   ],
   "metadata": {
    "collapsed": false
   },
   "id": "a2c37e059ee6963a",
   "execution_count": null
  },
  {
   "cell_type": "markdown",
   "source": [
    "StreamingMovies - использует ли клиент свой интернет-сервис для трансляции фильмов от стороннего провайдера"
   ],
   "metadata": {
    "collapsed": false
   },
   "id": "c2653042114437d3"
  },
  {
   "cell_type": "code",
   "outputs": [],
   "source": [
    "categorical_columns.add(\"StreamingMovies\")\n",
    "df[\"StreamingMovies\"].value_counts()"
   ],
   "metadata": {
    "collapsed": false
   },
   "id": "720a88051f91bf80",
   "execution_count": null
  },
  {
   "cell_type": "markdown",
   "source": [
    "Contract - тип контракта клиента"
   ],
   "metadata": {
    "collapsed": false
   },
   "id": "ea69ce42ecc2c1cb"
  },
  {
   "cell_type": "code",
   "outputs": [],
   "source": [
    "categorical_columns.add(\"Contract\")\n",
    "df[\"Contract\"].value_counts()"
   ],
   "metadata": {
    "collapsed": false
   },
   "id": "c0e5238e6cd78e12",
   "execution_count": null
  },
  {
   "cell_type": "markdown",
   "source": [
    "PaperlessBilling - выбрал ли клиент безбумажный способ выставления счетов"
   ],
   "metadata": {
    "collapsed": false
   },
   "id": "b7dc89a7897d0400"
  },
  {
   "cell_type": "code",
   "outputs": [],
   "source": [
    "categorical_columns.add(\"PaperlessBilling\")\n",
    "df[\"PaperlessBilling\"].value_counts()"
   ],
   "metadata": {
    "collapsed": false
   },
   "id": "2f2af8135f36d3d6",
   "execution_count": null
  },
  {
   "cell_type": "markdown",
   "source": [
    "PaymentMethod - каким образом клиент оплачивает свой счет"
   ],
   "metadata": {
    "collapsed": false
   },
   "id": "90f1f8c58cae788b"
  },
  {
   "cell_type": "code",
   "outputs": [],
   "source": [
    "categorical_columns.add(\"PaymentMethod\")\n",
    "df[\"PaymentMethod\"].value_counts()"
   ],
   "metadata": {
    "collapsed": false
   },
   "id": "e9ed963c69f637e5",
   "execution_count": null
  },
  {
   "cell_type": "markdown",
   "source": [
    "MonthlyCharges - общая ежемесячная плата клиента за все его услуги"
   ],
   "metadata": {
    "collapsed": false
   },
   "id": "cbd55ccd45488f38"
  },
  {
   "cell_type": "code",
   "outputs": [],
   "source": [
    "df[\"MonthlyCharges\"].describe()"
   ],
   "metadata": {
    "collapsed": false
   },
   "id": "d92fcf52d3b890dd",
   "execution_count": null
  },
  {
   "cell_type": "markdown",
   "source": [
    "TotalCharges - общая сумма платежей клиента, рассчитанную на конец указанного выше квартала"
   ],
   "metadata": {
    "collapsed": false
   },
   "id": "bf4c60a976b68634"
  },
  {
   "cell_type": "code",
   "outputs": [],
   "source": [
    "df[\"TotalCharges_float\"] = pd.to_numeric(df[\"TotalCharges\"], errors=\"coerce\").fillna(-999)\n",
    "df.drop(columns=[\"TotalCharges\"], inplace=True)\n"
   ],
   "metadata": {
    "collapsed": false
   },
   "id": "1086f5f743183831",
   "execution_count": null
  },
  {
   "cell_type": "code",
   "outputs": [],
   "source": [
    "categorical_columns.add(\"Churn\")\n",
    "df[\"Churn\"].value_counts()"
   ],
   "metadata": {
    "collapsed": false
   },
   "id": "de0aca25beabc8",
   "execution_count": null
  },
  {
   "cell_type": "code",
   "outputs": [],
   "source": [
    "label_encoder = LabelEncoder()\n",
    "for column_name in categorical_columns:\n",
    "    df[column_name] = label_encoder.fit_transform(df[column_name])"
   ],
   "metadata": {
    "collapsed": false
   },
   "id": "baaab5ce47c85f0c",
   "execution_count": null
  },
  {
   "cell_type": "code",
   "outputs": [],
   "source": [
    "df.info()"
   ],
   "metadata": {
    "collapsed": false
   },
   "id": "4135066594dac49c",
   "execution_count": null
  },
  {
   "cell_type": "code",
   "outputs": [],
   "source": [
    "X = df.drop(columns=[\"Churn\"])\n",
    "y = df[\"Churn\"]\n",
    "X_train, X_test, y_train, y_test = train_test_split(X, y, test_size=0.3)"
   ],
   "metadata": {
    "collapsed": false
   },
   "id": "c60094b39ebb6a12",
   "execution_count": null
  },
  {
   "cell_type": "code",
   "outputs": [],
   "source": [
    "gbm = GradientBoostingClassifier().fit(X_train, y_train)\n",
    "gbm.score(X_test, y_test)"
   ],
   "metadata": {
    "collapsed": false
   },
   "id": "50d25edabd819711",
   "execution_count": null
  },
  {
   "cell_type": "code",
   "outputs": [],
   "source": [
    "xgbm = XGBClassifier().fit(X_train, y_train)\n",
    "xgbm.score(X_test, y_test)"
   ],
   "metadata": {
    "collapsed": false
   },
   "id": "e928c49335ddf507",
   "execution_count": null
  },
  {
   "cell_type": "code",
   "outputs": [],
   "source": [
    "\n",
    "lgbm = LGBMClassifier().fit(X_train, y_train)\n",
    "lgbm.score(X_test, y_test)"
   ],
   "metadata": {
    "collapsed": false
   },
   "id": "fd67a06ce9ffd7c6",
   "execution_count": null
  },
  {
   "cell_type": "code",
   "outputs": [],
   "source": [
    "cbm = CatBoostClassifier().fit(X_train, y_train)\n",
    "cbm.score(X_test, y_test)"
   ],
   "metadata": {
    "collapsed": false
   },
   "id": "e9239e391097e226",
   "execution_count": null
  },
  {
   "cell_type": "markdown",
   "source": [],
   "metadata": {
    "collapsed": false
   },
   "id": "2bdff50011a08f43"
  },
  {
   "cell_type": "code",
   "outputs": [],
   "source": [
    "param_grid = {\n",
    "    \"n_estimators\": [10, 50, 100, 300],\n",
    "    \"max_features\": list(range(1, 20)) + [\"sqrt\", \"log2\"],\n",
    "    \"subsample\": np.arange(0.1, 1.1, 0.1),\n",
    "}\n",
    "grid_search_cv = GridSearchCV(gbm, param_grid=param_grid)\n",
    "grid_search_cv.fit(X_train, y_train)\n",
    "grid_search_cv.best_params_"
   ],
   "metadata": {
    "collapsed": false
   },
   "id": "81cf03f52b85f74f",
   "execution_count": null
  },
  {
   "cell_type": "code",
   "outputs": [],
   "source": [
    "grid_search_cv.score(X_test, y_test)"
   ],
   "metadata": {
    "collapsed": false
   },
   "id": "91ab7161b9510bc4",
   "execution_count": null
  },
  {
   "cell_type": "code",
   "outputs": [],
   "source": [
    "param_grid = {\n",
    "    \"n_estimators\": [10, 50, 100, 300],\n",
    "    \"max_bin\": list(range(1, 20)),\n",
    "    \"subsample\": np.arange(0.1, 1.1, 0.1),\n",
    "}\n",
    "grid_search_cv = GridSearchCV(xgbm, param_grid=param_grid)\n",
    "grid_search_cv.fit(X_train, y_train)\n",
    "grid_search_cv.best_params_"
   ],
   "metadata": {
    "collapsed": false
   },
   "id": "499dcc1582d1a462",
   "execution_count": null
  },
  {
   "cell_type": "code",
   "outputs": [],
   "source": [
    "grid_search_cv.score(X_test, y_test)"
   ],
   "metadata": {
    "collapsed": false
   },
   "id": "162781402672dd03",
   "execution_count": null
  },
  {
   "cell_type": "code",
   "outputs": [],
   "source": [
    "param_grid = {\n",
    "    \"n_estimators\": [10, 50, 100, 300],\n",
    "    \"subsample\": np.arange(0.1, 1.1, 0.1),\n",
    "}\n",
    "grid_search_cv = GridSearchCV(lgbm, param_grid=param_grid)\n",
    "grid_search_cv.fit(X_train, y_train)\n",
    "grid_search_cv.best_params_\n"
   ],
   "metadata": {
    "collapsed": false
   },
   "id": "d5c816f8277295a5",
   "execution_count": null
  },
  {
   "cell_type": "code",
   "outputs": [],
   "source": [
    "grid_search_cv.score(X_test, y_test)"
   ],
   "metadata": {
    "collapsed": false
   },
   "id": "9cd1ba300bdee39b",
   "execution_count": null
  },
  {
   "cell_type": "code",
   "outputs": [],
   "source": [
    "param_grid = {\n",
    "    \"n_estimators\": [10, 50, 100, 300],\n",
    "    \"max_bin\": list(range(1, 20)),\n",
    "    \"subsample\": np.arange(0.1, 1.1, 0.1),\n",
    "}\n",
    "grid_search_cv = GridSearchCV(cbm, param_grid=param_grid)\n",
    "grid_search_cv.fit(X_train, y_train)\n",
    "grid_search_cv.best_params_"
   ],
   "metadata": {
    "collapsed": false
   },
   "id": "b9a16ca4524496bb",
   "execution_count": null
  },
  {
   "cell_type": "code",
   "outputs": [],
   "source": [
    "grid_search_cv.score(X_test, y_test)"
   ],
   "metadata": {
    "collapsed": false
   },
   "id": "968cd63eaf11d5a0",
   "execution_count": null
  },
  {
   "cell_type": "markdown",
   "source": [
    "# Вывод\n",
    "При использовании параметров из \"коробки\" выигрывает модель градиентного бустинга с реализацией из sklearn. После настройки гиперпараметров, реализация CatBoost вырывается вперёд."
   ],
   "metadata": {
    "collapsed": false
   },
   "id": "77ac221ec9c5f66e"
  }
 ],
 "metadata": {
  "kernelspec": {
   "display_name": "Python 3",
   "language": "python",
   "name": "python3"
  },
  "language_info": {
   "codemirror_mode": {
    "name": "ipython",
    "version": 2
   },
   "file_extension": ".py",
   "mimetype": "text/x-python",
   "name": "python",
   "nbconvert_exporter": "python",
   "pygments_lexer": "ipython2",
   "version": "2.7.6"
  }
 },
 "nbformat": 4,
 "nbformat_minor": 5
}
