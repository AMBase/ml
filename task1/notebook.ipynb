{
 "cells": [
  {
   "cell_type": "markdown",
   "source": [
    "Для выполнения домашнего задания был выбран dataset [Telco Customer Churn](https://www.kaggle.com/datasets/blastchar/telco-customer-churn)"
   ],
   "metadata": {
    "collapsed": false
   },
   "id": "8a5c137cb506b020"
  },
  {
   "cell_type": "code",
   "execution_count": null,
   "id": "initial_id",
   "metadata": {
    "collapsed": true
   },
   "outputs": [],
   "source": [
    "import pandas as pd\n",
    "from sklearn.preprocessing import LabelEncoder\n",
    "import numpy as np"
   ]
  },
  {
   "cell_type": "code",
   "outputs": [],
   "source": [
    "df = pd.read_csv(\"dataset.csv\", sep=\",\")\n",
    "df.head(50)"
   ],
   "metadata": {
    "collapsed": false
   },
   "id": "af9ebe915d400c99",
   "execution_count": null
  },
  {
   "cell_type": "code",
   "outputs": [],
   "source": [
    "df.info()"
   ],
   "metadata": {
    "collapsed": false
   },
   "id": "141bd333d666d27b",
   "execution_count": null
  },
  {
   "cell_type": "markdown",
   "source": [
    "Идентификатор клиента не влияет на отток, поэтому можем удалить его. "
   ],
   "metadata": {
    "collapsed": false
   },
   "id": "1347051f64487af4"
  },
  {
   "cell_type": "code",
   "outputs": [],
   "source": [
    "df.drop(columns=[\"customerID\"], inplace=True)"
   ],
   "metadata": {
    "collapsed": false
   },
   "id": "a5cc13c1e37692bc",
   "execution_count": null
  },
  {
   "cell_type": "code",
   "outputs": [],
   "source": [
    "df[\"TotalCharges\"].value_counts()"
   ],
   "metadata": {
    "collapsed": false
   },
   "id": "8916516d423a3bf8",
   "execution_count": null
  },
  {
   "cell_type": "code",
   "outputs": [],
   "source": [
    "df[\"TotalCharges_float\"] = pd.to_numeric(df[\"TotalCharges\"], errors=\"coerce\").fillna(-999)\n"
   ],
   "metadata": {
    "collapsed": false
   },
   "id": "f2cfdc3b94d7540f",
   "execution_count": null
  },
  {
   "cell_type": "code",
   "outputs": [],
   "source": [
    "df.select_dtypes(include='object')"
   ],
   "metadata": {
    "collapsed": false
   },
   "id": "de0aca25beabc8",
   "execution_count": null
  },
  {
   "cell_type": "code",
   "outputs": [],
   "source": [
    "label_encoder = LabelEncoder()\n",
    "columns = [\"gender\", \"Partner\"]\n",
    "df[columns] = label_encoder.fit_transform(df[columns])\n",
    "df"
   ],
   "metadata": {
    "collapsed": false
   },
   "id": "baaab5ce47c85f0c",
   "execution_count": null
  },
  {
   "cell_type": "code",
   "outputs": [],
   "source": [],
   "metadata": {
    "collapsed": false
   },
   "id": "4135066594dac49c",
   "execution_count": null
  }
 ],
 "metadata": {
  "kernelspec": {
   "display_name": "Python 3",
   "language": "python",
   "name": "python3"
  },
  "language_info": {
   "codemirror_mode": {
    "name": "ipython",
    "version": 2
   },
   "file_extension": ".py",
   "mimetype": "text/x-python",
   "name": "python",
   "nbconvert_exporter": "python",
   "pygments_lexer": "ipython2",
   "version": "2.7.6"
  }
 },
 "nbformat": 4,
 "nbformat_minor": 5
}
